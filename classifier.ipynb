{
 "cells": [
  {
   "cell_type": "code",
   "execution_count": 14,
   "metadata": {},
   "outputs": [],
   "source": [
    "from watson_developer_cloud import VisualRecognitionV3\n",
    "\n",
    "visual_recognition = VisualRecognitionV3(\n",
    "    version='2019-02-17',\n",
    "    iam_apikey='-UKB9cGBsrPnH-Bkip8UP_mOuMNdHILpawV8WvF6pHZi')"
   ]
  },
  {
   "cell_type": "code",
   "execution_count": 17,
   "metadata": {},
   "outputs": [
    {
     "name": "stdout",
     "output_type": "stream",
     "text": [
      "{\n",
      "  \"images\": [\n",
      "    {\n",
      "      \"classifiers\": [\n",
      "        {\n",
      "          \"classifier_id\": \"DefaultCustomModel_270952423\",\n",
      "          \"name\": \"Default Custom Model\",\n",
      "          \"classes\": [\n",
      "            {\n",
      "              \"class\": \"red\",\n",
      "              \"score\": 0.926\n",
      "            }\n",
      "          ]\n",
      "        }\n",
      "      ],\n",
      "      \"image\": \"redshirttest.jpg\"\n",
      "    }\n",
      "  ],\n",
      "  \"images_processed\": 1,\n",
      "  \"custom_classes\": 10\n",
      "}\n",
      "{'images': [{'classifiers': [{'classifier_id': 'DefaultCustomModel_270952423', 'name': 'Default Custom Model', 'classes': [{'class': 'red', 'score': 0.926}]}], 'image': 'redshirttest.jpg'}], 'images_processed': 1, 'custom_classes': 10}\n"
     ]
    }
   ],
   "source": [
    "import json\n",
    "from watson_developer_cloud import VisualRecognitionV3\n",
    "\n",
    "visual_recognition = VisualRecognitionV3(\n",
    "    '2019-02-17',\n",
    "    iam_apikey=\"-UKB9cGBsrPnH-Bkip8UP_mOuMNdHILpawV8WvF6pHZi\")\n",
    "\n",
    "with open('./Downloads/redshirttest.jpg', 'rb') as images_file:\n",
    "    classes = visual_recognition.classify(\n",
    "        images_file,\n",
    "        threshold='0.6',\n",
    "    classifier_ids='DefaultCustomModel_270952423').get_result()\n",
    "    \n",
    "print(json.dumps(classes, indent=2))\n",
    "\n"
   ]
  },
  {
   "cell_type": "code",
   "execution_count": null,
   "metadata": {},
   "outputs": [],
   "source": []
  }
 ],
 "metadata": {
  "kernelspec": {
   "display_name": "Python 3",
   "language": "python",
   "name": "python3"
  },
  "language_info": {
   "codemirror_mode": {
    "name": "ipython",
    "version": 3
   },
   "file_extension": ".py",
   "mimetype": "text/x-python",
   "name": "python",
   "nbconvert_exporter": "python",
   "pygments_lexer": "ipython3",
   "version": "3.6.4"
  }
 },
 "nbformat": 4,
 "nbformat_minor": 2
}
